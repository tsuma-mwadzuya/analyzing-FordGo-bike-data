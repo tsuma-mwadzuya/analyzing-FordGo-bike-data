{
 "cells": [
  {
   "cell_type": "markdown",
   "metadata": {
    "slideshow": {
     "slide_type": "slide"
    }
   },
   "source": [
    "# Part II - Ford GoBike System Dataset\n",
    "\n",
    "## by Samuel Tsuma"
   ]
  },
  {
   "cell_type": "markdown",
   "metadata": {
    "slideshow": {
     "slide_type": "slide"
    }
   },
   "source": [
    "## Investigation Overview\n",
    "\n",
    "\n",
    "The goal of this presentation is to show:\n",
    "\n",
    "- The distributuion of bike users among user types\n",
    "- Gender distribution of users as a whole and in repsective user types\n",
    "- Age distribution across bike users\n",
    "- The average ages for each gender across the user types\n"
   ]
  },
  {
   "cell_type": "markdown",
   "metadata": {
    "slideshow": {
     "slide_type": "slide"
    }
   },
   "source": [
    "\n",
    "## Dataset Overview\n",
    "\n",
    "> This data set includes information about individual rides made in a bike-sharing system covering the greater San Francisco Bay area. It consists of 16 columns and a total of 183412 rows (inclusive of rows with missing values). Majority of the variables (9) are numeric (float and imteger) in nature, while the remaining (5) variables are categorical in nature. \n",
    "\n",
    "\n",
    "> **NOTE**: The analysis done on this dataset was limited to bike users ***born between 1941 \n",
    "(currently aged 80) and the present year (2022)** and not based on the entire dataset."
   ]
  },
  {
   "cell_type": "code",
   "execution_count": 1,
   "metadata": {
    "slideshow": {
     "slide_type": "skip"
    }
   },
   "outputs": [],
   "source": [
    "# import all packages and set plots to be embedded inline\n",
    "import numpy as np\n",
    "import pandas as pd\n",
    "import matplotlib.pyplot as plt\n",
    "import seaborn as sb\n",
    "\n",
    "%matplotlib inline\n",
    "\n",
    "# suppress warnings from final output\n",
    "import warnings\n",
    "warnings.simplefilter(\"ignore\")"
   ]
  },
  {
   "cell_type": "code",
   "execution_count": 2,
   "metadata": {
    "slideshow": {
     "slide_type": "skip"
    }
   },
   "outputs": [],
   "source": [
    "# load in the dataset into a pandas dataframe\n",
    "bike_df = pd.read_csv('201902-fordgobike-tripdata.csv')\n",
    "bike_data = bike_df.copy()"
   ]
  },
  {
   "cell_type": "code",
   "execution_count": 3,
   "metadata": {
    "slideshow": {
     "slide_type": "skip"
    }
   },
   "outputs": [],
   "source": [
    "# dropping rows without start station id\n",
    "bike_data.drop(bike_data[bike_data['start_station_id'].isnull()].index,inplace=True)\n",
    "\n",
    "# droppin rows without end station id\n",
    "bike_data.drop(bike_data[bike_data['end_station_id'].isnull()].index,inplace=True)"
   ]
  },
  {
   "cell_type": "code",
   "execution_count": 4,
   "metadata": {
    "slideshow": {
     "slide_type": "skip"
    }
   },
   "outputs": [],
   "source": [
    "# converting start_time and end_time to datetime.\n",
    "bike_data['start_time'] = bike_data['start_time'].astype('datetime64')\n",
    "bike_data['end_time'] = bike_data['end_time'].astype('datetime64')\n",
    "\n",
    "\n",
    "# converting start_station_id and end_station_id from float to string.\n",
    "bike_data['start_station_id'] = bike_data['start_station_id'].astype(str).replace('nan', np.nan)\n",
    "bike_data['end_station_id'] = bike_data['end_station_id'].astype(str).replace('nan', np.nan)\n",
    "\n",
    "\n",
    "# converting bike_id from int to string.\n",
    "bike_data['bike_id'] = bike_data['bike_id'].astype(str)"
   ]
  },
  {
   "cell_type": "code",
   "execution_count": 5,
   "metadata": {
    "slideshow": {
     "slide_type": "skip"
    }
   },
   "outputs": [],
   "source": [
    "# replacing NaN with zero then converting member_birth_year from float to int.\n",
    "\n",
    "bike_data['member_birth_year'] = bike_data['member_birth_year'].replace(np.nan, 0)"
   ]
  },
  {
   "cell_type": "code",
   "execution_count": 6,
   "metadata": {
    "slideshow": {
     "slide_type": "skip"
    }
   },
   "outputs": [],
   "source": [
    "bike_data['member_birth_year'] = bike_data['member_birth_year'].astype(int).replace(0, np.nan)"
   ]
  },
  {
   "cell_type": "code",
   "execution_count": 7,
   "metadata": {
    "slideshow": {
     "slide_type": "skip"
    }
   },
   "outputs": [],
   "source": [
    "# dropping the rows\n",
    "\n",
    "bike_data.drop(bike_data.loc[bike_data[\"member_birth_year\"] <= 1940].index, inplace=True)"
   ]
  },
  {
   "cell_type": "code",
   "execution_count": 8,
   "metadata": {
    "slideshow": {
     "slide_type": "skip"
    }
   },
   "outputs": [],
   "source": [
    "# creating new column age\n",
    "\n",
    "current_year = 2022\n",
    "\n",
    "bike_data['age'] = current_year - bike_data['member_birth_year']"
   ]
  },
  {
   "cell_type": "code",
   "execution_count": 9,
   "metadata": {
    "slideshow": {
     "slide_type": "skip"
    }
   },
   "outputs": [
    {
     "name": "stdout",
     "output_type": "stream",
     "text": [
      "<class 'pandas.core.frame.DataFrame'>\n",
      "Int64Index: 183012 entries, 0 to 183411\n",
      "Data columns (total 17 columns):\n",
      " #   Column                   Non-Null Count   Dtype         \n",
      "---  ------                   --------------   -----         \n",
      " 0   duration_sec             183012 non-null  int64         \n",
      " 1   start_time               183012 non-null  datetime64[ns]\n",
      " 2   end_time                 183012 non-null  datetime64[ns]\n",
      " 3   start_station_id         183012 non-null  object        \n",
      " 4   start_station_name       183012 non-null  object        \n",
      " 5   start_station_latitude   183012 non-null  float64       \n",
      " 6   start_station_longitude  183012 non-null  float64       \n",
      " 7   end_station_id           183012 non-null  object        \n",
      " 8   end_station_name         183012 non-null  object        \n",
      " 9   end_station_latitude     183012 non-null  float64       \n",
      " 10  end_station_longitude    183012 non-null  float64       \n",
      " 11  bike_id                  183012 non-null  object        \n",
      " 12  user_type                183012 non-null  object        \n",
      " 13  member_birth_year        174749 non-null  float64       \n",
      " 14  member_gender            174749 non-null  object        \n",
      " 15  bike_share_for_all_trip  183012 non-null  object        \n",
      " 16  age                      174749 non-null  float64       \n",
      "dtypes: datetime64[ns](2), float64(6), int64(1), object(8)\n",
      "memory usage: 25.1+ MB\n"
     ]
    }
   ],
   "source": [
    "# confirming dataset is in order\n",
    "bike_data.info()"
   ]
  },
  {
   "cell_type": "markdown",
   "metadata": {
    "slideshow": {
     "slide_type": "slide"
    }
   },
   "source": [
    "## Distribution of User Types\n",
    "\n",
    "- Subscribers form the majority, accounting for 89% of bike users.\n",
    "- Customers make up for 11% of bike users"
   ]
  },
  {
   "cell_type": "code",
   "execution_count": 10,
   "metadata": {
    "slideshow": {
     "slide_type": "subslide"
    }
   },
   "outputs": [
    {
     "data": {
      "image/png": "[encoded data removed]",
      "text/plain": [
       "<Figure size 432x288 with 1 Axes>"
      ]
     },
     "metadata": {},
     "output_type": "display_data"
    }
   ],
   "source": [
    "# function that takes in variable(column) and title\n",
    "def pie_chart(col, ttl):\n",
    "    \n",
    "    plt.pie(col, labels=col.index, startangle = 90, autopct = '%0.0f%%', counterclock = False)\n",
    "    plt.title(ttl)\n",
    "    plt.axis('square');\n",
    "\n",
    "    \n",
    "user_type = bike_data['user_type'].value_counts()    \n",
    "# plotting pie chart\n",
    "pie_chart(user_type, 'User Type of Members')"
   ]
  },
  {
   "cell_type": "markdown",
   "metadata": {
    "slideshow": {
     "slide_type": "slide"
    }
   },
   "source": [
    "## Subscriber(member) Gender Distribution\n",
    "\n",
    "- Majority of the members (subscribers) are male who account for 75%\n",
    "- The Female gender category accounts for 23% of the members\n",
    "- Members identifying their gender as Other make up for 2% of the total."
   ]
  },
  {
   "cell_type": "code",
   "execution_count": 11,
   "metadata": {
    "slideshow": {
     "slide_type": "subslide"
    }
   },
   "outputs": [
    {
     "data": {
      "image/png": "[encoded data removed]",
      "text/plain": [
       "<Figure size 432x288 with 1 Axes>"
      ]
     },
     "metadata": {},
     "output_type": "display_data"
    }
   ],
   "source": [
    "# getting value counts of member_gender\n",
    "m_gender = bike_data['member_gender'].value_counts()\n",
    "# plotting pie chart\n",
    "pie_chart(m_gender, 'Member genders')"
   ]
  },
  {
   "cell_type": "markdown",
   "metadata": {
    "slideshow": {
     "slide_type": "slide"
    }
   },
   "source": [
    "## Customers Gender Distribution\n",
    "\n",
    "- Majority of the customers are male, accounting for 69% of non-members.\n",
    "- Females account for 28% of the total\n",
    "- LGBTQ community make up for 3% of the customers total."
   ]
  },
  {
   "cell_type": "code",
   "execution_count": 12,
   "metadata": {
    "slideshow": {
     "slide_type": "subslide"
    }
   },
   "outputs": [
    {
     "data": {
      "image/png": "[encoded data removed]",
      "text/plain": [
       "<Figure size 432x288 with 1 Axes>"
      ]
     },
     "metadata": {},
     "output_type": "display_data"
    }
   ],
   "source": [
    "# filtering dataframe to gather user_types for customers only\n",
    "customer = bike_data[bike_data['user_type'] == 'Customer']\n",
    "#getting value counts for customers gender\n",
    "cust_gender = customer['member_gender'].value_counts()\n",
    "# plotting pie chart\n",
    "pie_chart(cust_gender, 'Customers')"
   ]
  },
  {
   "cell_type": "markdown",
   "metadata": {
    "slideshow": {
     "slide_type": "slide"
    }
   },
   "source": [
    "## Age Distribution\n",
    "\n",
    "- Most bike users are aged between 25 and 45 years\n",
    "- As age advances from 45 years, the number of users keep decreasing."
   ]
  },
  {
   "cell_type": "code",
   "execution_count": 13,
   "metadata": {
    "slideshow": {
     "slide_type": "subslide"
    }
   },
   "outputs": [
    {
     "data": {
      "image/png": "[encoded data removed]",
      "text/plain": [
       "<Figure size 432x288 with 1 Axes>"
      ]
     },
     "metadata": {
      "needs_background": "light"
     },
     "output_type": "display_data"
    }
   ],
   "source": [
    "# Defining function for histograms\n",
    "\n",
    "def hist_plot(d_set, x_ax, binz, x_lab, y_lab, ttl):\n",
    "    \n",
    "    plt.hist(data = d_set, x = x_ax, bins = binz)\n",
    "    plt.xlabel(x_lab)\n",
    "    plt.ylabel(y_lab)\n",
    "    plt.title(ttl)\n",
    "    \n",
    "    \n",
    "\n",
    "bins = np.arange(0, bike_data['age'].max()+3, 3)\n",
    "hist_plot(bike_data, 'age', bins, 'Age',\n",
    "          'Frequency', 'Distribution of Age across users')\n",
    "plt.xlim((15, 85));"
   ]
  },
  {
   "cell_type": "markdown",
   "metadata": {
    "slideshow": {
     "slide_type": "slide"
    }
   },
   "source": [
    "## Age vs Gender vs User Type\n",
    "\n",
    "- Generally, subscribers record slightly higher average ages across the gender categories\n",
    "- Riders of the LGBTQ community have the highest average age among both customers and subscribers\n",
    "- Female riders have the lowest average age among both customers and subscribers\n",
    "- The average ages across the two User Type demographics are for middle-aged people\n",
    "\n"
   ]
  },
  {
   "cell_type": "code",
   "execution_count": 14,
   "metadata": {
    "slideshow": {
     "slide_type": "subslide"
    }
   },
   "outputs": [
    {
     "data": {
      "image/png": "[encoded data removed]",
      "text/plain": [
       "<Figure size 432x288 with 1 Axes>"
      ]
     },
     "metadata": {
      "needs_background": "light"
     },
     "output_type": "display_data"
    }
   ],
   "source": [
    "# pointplot -- member_gender vs age vs user_type\n",
    "sb.pointplot(data = bike_data, x = 'member_gender', y = 'age', hue = 'user_type',\n",
    "                  dodge = 0.2, linestyles = \"\");"
   ]
  },
  {
   "cell_type": "markdown",
   "metadata": {
    "slideshow": {
     "slide_type": "slide"
    }
   },
   "source": [
    "### Thank You!"
   ]
  },
  {
   "cell_type": "markdown",
   "metadata": {
    "slideshow": {
     "slide_type": "notes"
    }
   },
   "source": [
    ">**Generate Slideshow**: Once you're ready to generate your slideshow, use the `jupyter nbconvert` command to generate the HTML slide show. . From the terminal or command line, use the following expression."
   ]
  },
  {
   "cell_type": "code",
   "execution_count": 16,
   "metadata": {
    "slideshow": {
     "slide_type": "skip"
    }
   },
   "outputs": [
    {
     "name": "stdout",
     "output_type": "stream",
     "text": [
      "[NbConvertApp] WARNING | Config option `kernel_spec_manager_class` not recognized by `NbConvertApp`.\n",
      "[NbConvertApp] Converting notebook Part_2_FordGo.ipynb to slides\n",
      "[NbConvertApp] Writing 344404 bytes to Part_2_FordGo.slides.html\n",
      "[NbConvertApp] Redirecting reveal.js requests to https://cdnjs.cloudflare.com/ajax/libs/reveal.js/3.5.0\n",
      "Traceback (most recent call last):\n",
      "  File \"/home/samtsuma/anaconda3/bin/jupyter-nbconvert\", line 11, in <module>\n",
      "    sys.exit(main())\n",
      "  File \"/home/samtsuma/anaconda3/lib/python3.7/site-packages/jupyter_core/application.py\", line 268, in launch_instance\n",
      "    return super(JupyterApp, cls).launch_instance(argv=argv, **kwargs)\n",
      "  File \"/home/samtsuma/anaconda3/lib/python3.7/site-packages/traitlets/config/application.py\", line 664, in launch_instance\n",
      "    app.start()\n",
      "  File \"/home/samtsuma/anaconda3/lib/python3.7/site-packages/nbconvert/nbconvertapp.py\", line 340, in start\n",
      "    self.convert_notebooks()\n",
      "  File \"/home/samtsuma/anaconda3/lib/python3.7/site-packages/nbconvert/nbconvertapp.py\", line 510, in convert_notebooks\n",
      "    self.convert_single_notebook(notebook_filename)\n",
      "  File \"/home/samtsuma/anaconda3/lib/python3.7/site-packages/nbconvert/nbconvertapp.py\", line 483, in convert_single_notebook\n",
      "    self.postprocess_single_notebook(write_results)\n",
      "  File \"/home/samtsuma/anaconda3/lib/python3.7/site-packages/nbconvert/nbconvertapp.py\", line 455, in postprocess_single_notebook\n",
      "    self.postprocessor(write_results)\n",
      "  File \"/home/samtsuma/anaconda3/lib/python3.7/site-packages/nbconvert/postprocessors/base.py\", line 28, in __call__\n",
      "    self.postprocess(input)\n",
      "  File \"/home/samtsuma/anaconda3/lib/python3.7/site-packages/nbconvert/postprocessors/serve.py\", line 90, in postprocess\n",
      "    http_server.listen(self.port, address=self.ip)\n",
      "  File \"/home/samtsuma/anaconda3/lib/python3.7/site-packages/tornado/tcpserver.py\", line 151, in listen\n",
      "    sockets = bind_sockets(port, address=address)\n",
      "  File \"/home/samtsuma/anaconda3/lib/python3.7/site-packages/tornado/netutil.py\", line 174, in bind_sockets\n",
      "    sock.bind(sockaddr)\n",
      "OSError: [Errno 98] Address already in use\n"
     ]
    }
   ],
   "source": [
    "!jupyter nbconvert Part_2_FordGo.ipynb --to slides --post serve --no-input --no-prompt"
   ]
  },
  {
   "cell_type": "markdown",
   "metadata": {
    "slideshow": {
     "slide_type": "notes"
    }
   },
   "source": [
    "> This should open a tab in your web browser where you can scroll through your presentation. Sub-slides can be accessed by pressing 'down' when viewing its parent slide. Make sure you remove all of the quote-formatted guide notes like this one before you finish your presentation! At last, you can stop the Kernel. "
   ]
  },
  {
   "cell_type": "code",
   "execution_count": null,
   "metadata": {},
   "outputs": [],
   "source": []
  }
 ],
 "metadata": {
  "celltoolbar": "Slideshow",
  "kernelspec": {
   "display_name": "Python 3 (ipykernel)",
   "language": "python",
   "name": "python3"
  },
  "language_info": {
   "codemirror_mode": {
    "name": "ipython",
    "version": 3
   },
   "file_extension": ".py",
   "mimetype": "text/x-python",
   "name": "python",
   "nbconvert_exporter": "python",
   "pygments_lexer": "ipython3",
   "version": "3.7.6"
  }
 },
 "nbformat": 4,
 "nbformat_minor": 4
}
